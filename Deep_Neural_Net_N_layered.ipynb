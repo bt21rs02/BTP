{
 "cells": [
  {
   "cell_type": "code",
   "execution_count": 1,
   "metadata": {},
   "outputs": [],
   "source": [
    "import numpy as np\n",
    "import pandas as pd\n",
    "import os\n",
    "import cv2\n",
    "import matplotlib.pyplot as plt\n",
    "#loads the dataset if you input:directory\n",
    "def load_dataset(folder):\n",
    "    images = []\n",
    "    y=[]\n",
    "    limit=0\n",
    "    for filename in os.listdir(folder):\n",
    "        img = cv2.imread(os.path.join(folder,filename))\n",
    "        if img is not None:\n",
    "            images.append(img)\n",
    "            temp=filename.split(\".\")\n",
    "            y.append(int(temp[0][-1]))\n",
    "    return np.array(images),np.array(y)\n",
    "\n",
    "class neural_network_class:\n",
    "    def __init__(self,layers,X,Y):\n",
    "        self.X=X #input \n",
    "        self.Y=Y  #classes\n",
    "        self.m=X.shape[1] #shape of X\n",
    "        self.y_n=len(np.unique(Y)) #no of classes\n",
    "        self.no_of_layers=len(layers) # no of layers\n",
    "        self.parameters={}  #stores W,b,Z,A\n",
    "        self.d={}   #stores partial derivatives\n",
    "        self.parameters[\"A0\"]=X #X input can be considered as A0\n",
    "        layers.append(self.y_n) #appending last layer\n",
    "        self.costs=[]\n",
    "        self.accuracy=[]\n",
    "        \n",
    "        #initialising the parameters weights bias,activation for l layers\n",
    "        \n",
    "\n",
    "        for l in range(0,len(layers)-1):\n",
    "            self.parameters[\"W\"+str(l+1)]=np.random.randn(layers[l+1],layers[l])*0.01\n",
    "            self.parameters[\"b\"+str(l+1)]=np.zeros((layers[l+1],1))\n",
    "            self.parameters[\"Z\"+str(l+1)]=None\n",
    "            self.parameters[\"A\"+str(l+1)]=None\n",
    "        \n",
    "        #initialising dZ,dW,db,dA values for l layers\n",
    "        for l in range(0,len(layers)-1):\n",
    "            self.d[\"Z\"+str(l+1)]=None\n",
    "            self.d[\"W\"+str(l+1)]=None\n",
    "            self.d[\"b\"+str(l+1)]=None\n",
    "            \n",
    "    #soft max_function\n",
    "    #exp(Z1)/sum(exp(Z1))\n",
    "    def softmax(self):\n",
    "        A=self.parameters[\"Z\"+str(self.no_of_layers)]\n",
    "        return np.exp(A)/np.sum(np.exp(A),axis=0,keepdims=True)\n",
    "    \n",
    "    \n",
    "    #one hat encoding\n",
    "    #example [0,1,2]\n",
    "    #ouput \n",
    "    #[1,0,0]\n",
    "    #[0,1,0]\n",
    "    #[0,0,1]\n",
    "    \n",
    "    def one_hat_encode(self,Y):\n",
    "        y_h=np.zeros((Y.shape[0],self.y_n))\n",
    "        for i in range(0,X.shape[1]):\n",
    "            y_h[i][Y[i]]=1\n",
    "        self.y_h=y_h.T\n",
    "\n",
    "            \n",
    "    def feedforward(self):\n",
    "        for l in range(0,self.no_of_layers-1):\n",
    "            W,b=self.parameters[\"W\"+str(l+1)],self.parameters[\"b\"+str(l+1)]\n",
    "            A_prev=self.parameters[\"A\"+str(l)]\n",
    "            Z=np.dot(W,A_prev)+b\n",
    "            self.parameters[\"Z\"+str(l+1)]=Z\n",
    "            self.parameters[\"A\"+str(l+1)]=self.Activation(Z,\"sigmoid\")\n",
    "        \n",
    "        #soft max layer\n",
    "        W,b=self.parameters[\"W\"+str(self.no_of_layers)],self.parameters[\"b\"+str(self.no_of_layers)]\n",
    "        Aprev=self.parameters[\"A\"+str(self.no_of_layers-1)]\n",
    "        self.parameters[\"Z\"+str(self.no_of_layers)]=np.dot(W,Aprev)+b\n",
    "        self.parameters[\"A\"+str(self.no_of_layers)]=self.softmax()\n",
    "        \n",
    "    #activation function       \n",
    "    def Activation(self,Z,arg):\n",
    "        if arg==\"sigmoid\":\n",
    "            return 1/(1+np.exp(-Z))\n",
    "        if arg==\"relu\":\n",
    "            return np.maximum(0,Z)\n",
    "        \n",
    "    #calucualate the loss\n",
    "    #sigma sigma -plogq multi class cross entropy \n",
    "    def cost(self):\n",
    "        A=self.softmax()\n",
    "        self.loss=(-1/self.m)*np.sum(np.multiply(self.y_h,np.log(A)))\n",
    "        return self.loss\n",
    "    \n",
    "    # dervative of sigmoid g(x)(1-g(x))\n",
    "    def gx(self,x):\n",
    "        return np.multiply(x,1-x)\n",
    "        \n",
    "    #back propagation step\n",
    "    def backprop(self):\n",
    "        l=self.no_of_layers\n",
    "        P = self.parameters[\"A\"+str(l)]\n",
    "        A_prev=self.parameters[\"A\"+str(l-1)]\n",
    "        \n",
    "        #softmax layer\n",
    "        #partial derivate cost fun\n",
    "        #predicted P probabities from softmax\n",
    "        #y_h ground truth\n",
    "        dZ = (1/self.m)*(P- self.y_h)\n",
    "        dW=np.dot(dZ,A_prev.T)\n",
    "        db=np.sum(dZ,axis=1,keepdims=True)\n",
    "        \n",
    "        self.d[\"Z\"+str(l)]=dZ\n",
    "        self.d[\"W\"+str(l)]=dW\n",
    "        self.d[\"b\"+str(l)]=db\n",
    "        \n",
    "        for i in range(0,l-1):\n",
    "            \n",
    "            A_prev =   self.parameters[\"A\"+str(l-i-1)]\n",
    "            W      =  self.parameters[\"W\"+str(l-i)]\n",
    "            dZ_prev=  self.d[\"Z\"+str(l-i)]\n",
    "            \n",
    "            \n",
    "            dZ     =  np.multiply(np.dot(W.T,dZ_prev),self.gx(A_prev))\n",
    "            A      =  self.parameters[\"A\"+str(l-i-2)]\n",
    "            dW     =  np.dot(dZ,A.T)\n",
    "            db     =  np.sum(dZ,axis=1,keepdims=True)\n",
    "            #print(dZ)\n",
    "            self.d[\"Z\"+str(l-i-1)]=dZ\n",
    "            self.d[\"W\"+str(l-i-1)]=dW\n",
    "            self.d[\"b\"+str(l-i-1)]=db\n",
    "            \n",
    "    #update weights\n",
    "    #W=W-n*dW\n",
    "    #b=b-n*db\n",
    "    def upgrade(self):\n",
    "        for l in range(0,self.no_of_layers):\n",
    "            self.parameters[\"W\"+str(l+1)]=self.parameters[\"W\"+str(l+1)]-0.4*self.d[\"W\"+str(l+1)]\n",
    "            self.parameters[\"b\"+str(l+1)]=self.parameters[\"b\"+str(l+1)]-0.4*self.d[\"b\"+str(l+1)]\n",
    "        \n",
    "    #train the model\n",
    "    def train(self,epochs):\n",
    "        for i in range(0,epochs):\n",
    "            self.feedforward()\n",
    "            self.backprop()\n",
    "            self.upgrade()\n",
    "            self.costs.append(self.cost())\n",
    "            self.accuracy.append(self.Accuracy(False))\n",
    "            if (i+1)%100==0:\n",
    "                print(\"cycle no = \" ,(i)%99+1,\"/\",epochs/100)\n",
    "                print(\"no of iterations completed = \",i+1,\",cost = \",self.cost())\n",
    "        \n",
    "    #caluculates the accuracy \n",
    "    def Accuracy(self,output):\n",
    "        i=0\n",
    "        acc=0\n",
    "        prob=self.parameters[\"A\"+str(self.no_of_layers)].T\n",
    "        for val in self.y_h.T:\n",
    "            if np.argmax(val)==np.argmax(prob[i]):\n",
    "                acc=acc+1\n",
    "            i=i+1\n",
    "        if output:\n",
    "            print()\n",
    "            print(\"------------------------------------------->\")\n",
    "            print(\"Total no of correctly classifed =\",acc,\"/\",i)\n",
    "            print(\"Total no of wrongly classifed =\",i-acc,\"/\",i)\n",
    "            print(\"Accurcy = \",acc/i*100)\n",
    "            print(\"------------------------------------------->\")\n",
    "            print()\n",
    "        else:\n",
    "            return acc*100/i\n",
    "        \n",
    "    \n",
    "    def test_dataset(self,X,Y):\n",
    "        self.parameters[\"A0\"]=X\n",
    "        self.one_hat_encode(Y)\n",
    "        self.feedforward()\n",
    "        self.Accuracy(True)\n",
    "        \n",
    "    \n",
    "    def predict_class(self,X,Y):\n",
    "        self.parameters[\"A0\"]=X\n",
    "        self.one_hat_encode(Y)\n",
    "        self.feedforward()\n",
    "        prob=self.parameters[\"A\"+str(self.no_of_layers)].T\n",
    "        label=np.argmax(prob)\n",
    "        if label==0:\n",
    "            print(\"It is Apple\")\n",
    "        elif label==1:\n",
    "            print(\"It is  Banana\")\n",
    "        elif label==2:\n",
    "            print(\"It is Orange\")\n",
    "        elif label==3:\n",
    "            print(\"It is  Rotten Apple\")\n",
    "        elif label==4:\n",
    "            print(\"It is Rotten Banana\")\n",
    "        elif label==5:\n",
    "            print(\"It is Rotten Orange\")\n",
    "        \n",
    "            \n",
    "    \n",
    "    #y_n no of classes\n",
    "    #y true \n",
    "    #x predicted\n",
    "    def confusion_matrix(self):\n",
    "        self.conf_mat = np.zeros((self.y_n,self.y_n))\n",
    "        prob=self.parameters[\"A\"+str(self.no_of_layers)].T\n",
    "        i=0\n",
    "        for val in self.y_h.T:\n",
    "            y=np.argmax(val)\n",
    "            x=np.argmax(prob[i])\n",
    "            self.conf_mat[y][x]=self.conf_mat[y][x]+1\n",
    "            i=i+1\n",
    "        print(\"Confusion matrix\")\n",
    "        print(self.conf_mat)\n",
    "    \n",
    "    def Graph_Plot(self):\n",
    "        print(\"Cost vs Accuracy\")\n",
    "        plt.plot([x for x in range(1,len(self.accuracy)+1)],self.accuracy)\n",
    "        plt.legend([\"Accuracy\"]) \n",
    "        plt.plot([x for x in range(1,len(self.costs)+1)],self.costs)\n",
    "        plt.legend([\"Cost\"]) \n",
    "        plt.show()\n",
    "    \n",
    "    #precision,recall,Fscore\n",
    "    def metrics(self):\n",
    "        mat=self.conf_mat\n",
    "        TP_FP     =    np.sum(mat,axis=1,keepdims=True)\n",
    "        TP_FN     =    np.sum(mat,axis=0,keepdims=True)\n",
    "        \n",
    "        Precision =    np.divide(np.diagonal(mat),TP_FP.T)\n",
    "        Recall    =    np.divide(np.diagonal(mat),TP_FN)\n",
    "        F_score   =    2*(Precision*Recall)/(Precision+Recall)\n",
    "        \n",
    "        \n",
    "        for i in range(0,self.y_n):\n",
    "            print(\"Precision of (class =\",i,\") =\",Precision[0][i])\n",
    "            print(\"Recall    of (class =\",i,\") =\",Recall[0][i])\n",
    "            print(\"F_score   of (class =\",i,\") =\",F_score[0][i])\n",
    "            print()\n",
    "        return TP_FP\n",
    "            \n",
    "    \n",
    "\n",
    "\n",
    "\n"
   ]
  },
  {
   "cell_type": "code",
   "execution_count": 2,
   "metadata": {},
   "outputs": [
    {
     "name": "stdout",
     "output_type": "stream",
     "text": [
      "cycle no =  1 / 17.0\n",
      "no of iterations completed =  100 ,cost =  1.7713594495472882\n",
      "cycle no =  2 / 17.0\n",
      "no of iterations completed =  200 ,cost =  1.6634284439977551\n",
      "cycle no =  3 / 17.0\n",
      "no of iterations completed =  300 ,cost =  1.312661081789628\n",
      "cycle no =  4 / 17.0\n",
      "no of iterations completed =  400 ,cost =  1.1225636218232342\n",
      "cycle no =  5 / 17.0\n",
      "no of iterations completed =  500 ,cost =  1.0792792605808765\n",
      "cycle no =  6 / 17.0\n",
      "no of iterations completed =  600 ,cost =  1.0620813749703495\n",
      "cycle no =  7 / 17.0\n",
      "no of iterations completed =  700 ,cost =  0.9573433487714966\n",
      "cycle no =  8 / 17.0\n",
      "no of iterations completed =  800 ,cost =  0.8684722506534811\n",
      "cycle no =  9 / 17.0\n",
      "no of iterations completed =  900 ,cost =  0.8780550593425439\n",
      "cycle no =  10 / 17.0\n",
      "no of iterations completed =  1000 ,cost =  0.7600496669013181\n",
      "cycle no =  11 / 17.0\n",
      "no of iterations completed =  1100 ,cost =  0.6696518586257239\n",
      "cycle no =  12 / 17.0\n",
      "no of iterations completed =  1200 ,cost =  0.6261275637246182\n",
      "cycle no =  13 / 17.0\n",
      "no of iterations completed =  1300 ,cost =  0.5387761440823018\n",
      "cycle no =  14 / 17.0\n",
      "no of iterations completed =  1400 ,cost =  0.5489861187381634\n",
      "cycle no =  15 / 17.0\n",
      "no of iterations completed =  1500 ,cost =  0.4573184626140607\n",
      "cycle no =  16 / 17.0\n",
      "no of iterations completed =  1600 ,cost =  0.44697477471503044\n",
      "cycle no =  17 / 17.0\n",
      "no of iterations completed =  1700 ,cost =  0.5037906810900206\n",
      "\n",
      "------------------------------------------->\n",
      "Total no of correctly classifed = 8904 / 10901\n",
      "Total no of wrongly classifed = 1997 / 10901\n",
      "Accurcy =  81.68057976332447\n",
      "------------------------------------------->\n",
      "\n",
      "Confusion matrix\n",
      "[[1.099e+03 9.400e+01 5.300e+01 4.000e+02 0.000e+00 4.700e+01]\n",
      " [0.000e+00 1.540e+03 2.000e+00 2.200e+01 0.000e+00 1.700e+01]\n",
      " [1.000e+00 2.000e+00 1.370e+03 6.100e+01 0.000e+00 3.200e+01]\n",
      " [7.000e+00 5.000e+00 2.460e+02 1.967e+03 9.000e+00 1.080e+02]\n",
      " [3.000e+00 6.200e+01 1.000e+00 7.500e+01 1.898e+03 1.850e+02]\n",
      " [1.000e+00 5.300e+01 2.700e+02 2.240e+02 1.700e+01 1.030e+03]]\n",
      "\n",
      "Precision of (class = 0 ) = 0.6491435321913762\n",
      "Recall    of (class = 0 ) = 0.9891989198919892\n",
      "F_score   of (class = 0 ) = 0.7838801711840229\n",
      "\n",
      "Precision of (class = 1 ) = 0.9096278795038394\n",
      "Recall    of (class = 1 ) = 0.876993166287016\n",
      "F_score   of (class = 1 ) = 0.8930124673818498\n",
      "\n",
      "Precision of (class = 2 ) = 0.8092144122858831\n",
      "Recall    of (class = 2 ) = 0.7054582904222451\n",
      "F_score   of (class = 2 ) = 0.7537826685006878\n",
      "\n",
      "Precision of (class = 3 ) = 1.1618428824571767\n",
      "Recall    of (class = 3 ) = 0.7155329210622045\n",
      "F_score   of (class = 3 ) = 0.8856371004052229\n",
      "\n",
      "Precision of (class = 4 ) = 1.1210868281157709\n",
      "Recall    of (class = 4 ) = 0.9864864864864865\n",
      "F_score   of (class = 4 ) = 1.0494885264030964\n",
      "\n",
      "Precision of (class = 5 ) = 0.6083874778499705\n",
      "Recall    of (class = 5 ) = 0.7258632840028189\n",
      "F_score   of (class = 5 ) = 0.6619537275064268\n",
      "\n",
      "Cost vs Accuracy\n"
     ]
    },
    {
     "data": {
      "image/png": "[encoded data removed]",
      "text/plain": [
       "<Figure size 432x288 with 1 Axes>"
      ]
     },
     "metadata": {
      "needs_background": "light"
     },
     "output_type": "display_data"
    },
    {
     "name": "stdout",
     "output_type": "stream",
     "text": [
      "\n",
      "------------------------------------------->\n",
      "Total no of correctly classifed = 2165 / 2698\n",
      "Total no of wrongly classifed = 533 / 2698\n",
      "Accurcy =  80.24462564862861\n",
      "------------------------------------------->\n",
      "\n",
      "Confusion matrix\n",
      "[[354.   9.   0.  30.   0.   2.]\n",
      " [ 23. 343.   0.   3.   9.   3.]\n",
      " [  6.   5. 295.  68.   3.  11.]\n",
      " [113.   1.  12. 434.  25.  16.]\n",
      " [  2.   2.   0.   6. 508.  12.]\n",
      " [ 10.   4.  24.  92.  42. 231.]]\n",
      "\n",
      "Precision of (class = 0 ) = 0.8962025316455696\n",
      "Recall    of (class = 0 ) = 0.6968503937007874\n",
      "F_score   of (class = 0 ) = 0.7840531561461793\n",
      "\n",
      "Precision of (class = 1 ) = 0.8683544303797468\n",
      "Recall    of (class = 1 ) = 0.9423076923076923\n",
      "F_score   of (class = 1 ) = 0.9038208168642952\n",
      "\n",
      "Precision of (class = 2 ) = 0.7468354430379747\n",
      "Recall    of (class = 2 ) = 0.8912386706948641\n",
      "F_score   of (class = 2 ) = 0.8126721763085399\n",
      "\n",
      "Precision of (class = 3 ) = 1.09873417721519\n",
      "Recall    of (class = 3 ) = 0.6856240126382307\n",
      "F_score   of (class = 3 ) = 0.8443579766536966\n",
      "\n",
      "Precision of (class = 4 ) = 1.2860759493670886\n",
      "Recall    of (class = 4 ) = 0.8654173764906303\n",
      "F_score   of (class = 4 ) = 1.034623217922607\n",
      "\n",
      "Precision of (class = 5 ) = 0.5848101265822785\n",
      "Recall    of (class = 5 ) = 0.84\n",
      "F_score   of (class = 5 ) = 0.6895522388059702\n",
      "\n"
     ]
    }
   ],
   "source": [
    "#load train dataset\n",
    "X,y=load_dataset(\"/home/shanky/btp/datset/final_train\")\n",
    "Y=np.array(y)\n",
    "X_flatten = X.reshape(X.shape[0], -1).T\n",
    "X=X_flatten/255     \n",
    "\n",
    "        \n",
    "#you can add no of layers and no of nodes in each layer\n",
    "layers=[X.shape[0],250,150]\n",
    "network=neural_network_class(layers,X,Y)\n",
    "network.one_hat_encode(Y)\n",
    "network.train(1700)\n",
    "network.Accuracy(True)\n",
    "network.confusion_matrix()\n",
    "network.metrics()\n",
    "network.Graph_Plot()\n",
    "\n",
    "#load test dataset\n",
    "X,y=load_dataset(\"/home/shanky/btp/datset/final_test\")\n",
    "Y=np.array(y)\n",
    "X_flatten = X.reshape(X.shape[0], -1).T\n",
    "X=X_flatten/255\n",
    "network.test_dataset(X,Y)\n",
    "network.confusion_matrix()\n",
    "network.metrics()"
   ]
  },
  {
   "cell_type": "code",
   "execution_count": 126,
   "metadata": {},
   "outputs": [
    {
     "name": "stdout",
     "output_type": "stream",
     "text": [
      "Cost vs Accuracy\n"
     ]
    },
    {
     "data": {
      "image/png": "[encoded data removed]",
      "text/plain": [
       "<Figure size 432x288 with 1 Axes>"
      ]
     },
     "metadata": {
      "needs_background": "light"
     },
     "output_type": "display_data"
    }
   ],
   "source": [
    "#bug removed\n",
    "print(\"Cost vs Accuracy\")\n",
    "plt.plot([x for x in range(1,len(network.accuracy)+1)],np.divide(network.accuracy,100))\n",
    "plt.plot([x for x in range(1,len(network.costs)+1)],network.costs)\n",
    "plt.legend([\"Accuracy\"])\n",
    "plt.show()"
   ]
  },
  {
   "cell_type": "code",
   "execution_count": 127,
   "metadata": {},
   "outputs": [
    {
     "name": "stdout",
     "output_type": "stream",
     "text": [
      "confusion matrix\n",
      "\n",
      "[[354.   9.   0.  30.   0.   2.]\n",
      " [ 23. 343.   0.   3.   9.   3.]\n",
      " [  6.   5. 295.  68.   3.  11.]\n",
      " [113.   1.  12. 434.  25.  16.]\n",
      " [  2.   2.   0.   6. 508.  12.]\n",
      " [ 10.   4.  24.  92.  42. 231.]]\n",
      "\n",
      "Precision of (class = 0 ) = 0.8962025316455696\n",
      "Recall    of (class = 0 ) = 0.6968503937007874\n",
      "F_score   of (class = 0 ) = 0.7840531561461793\n",
      "\n",
      "Precision of (class = 1 ) = 0.9002624671916011\n",
      "Recall    of (class = 1 ) = 0.9423076923076923\n",
      "F_score   of (class = 1 ) = 0.9208053691275168\n",
      "\n",
      "Precision of (class = 2 ) = 0.7603092783505154\n",
      "Recall    of (class = 2 ) = 0.8912386706948641\n",
      "F_score   of (class = 2 ) = 0.8205841446453407\n",
      "\n",
      "Precision of (class = 3 ) = 0.7221297836938436\n",
      "Recall    of (class = 3 ) = 0.6856240126382307\n",
      "F_score   of (class = 3 ) = 0.7034035656401945\n",
      "\n",
      "Precision of (class = 4 ) = 0.9584905660377359\n",
      "Recall    of (class = 4 ) = 0.8654173764906303\n",
      "F_score   of (class = 4 ) = 0.9095792300805731\n",
      "\n",
      "Precision of (class = 5 ) = 0.5732009925558312\n",
      "Recall    of (class = 5 ) = 0.84\n",
      "F_score   of (class = 5 ) = 0.6814159292035399\n",
      "\n"
     ]
    }
   ],
   "source": [
    "#bug removed\n",
    "print(\"confusion matrix\")\n",
    "\n",
    "mat=network.conf_mat\n",
    "print()\n",
    "print(mat)\n",
    "print()\n",
    "TP_FP     =    np.sum(mat,axis=1,keepdims=True)\n",
    "TP_FN     =    np.sum(mat,axis=0,keepdims=True)\n",
    "        \n",
    "Precision =    np.divide(np.diagonal(mat),TP_FP.T)\n",
    "Recall    =    np.divide(np.diagonal(mat),TP_FN)\n",
    "F_score   =    2*(Precision*Recall)/(Precision+Recall)\n",
    "        \n",
    "        \n",
    "for i in range(0,network.y_n):\n",
    "    print(\"Precision of (class =\",i,\") =\",Precision[0][i])\n",
    "    print(\"Recall    of (class =\",i,\") =\",Recall[0][i])\n",
    "    print(\"F_score   of (class =\",i,\") =\",F_score[0][i])\n",
    "    print()\n"
   ]
  },
  {
   "cell_type": "code",
   "execution_count": 3,
   "metadata": {},
   "outputs": [
    {
     "data": {
      "image/png": "[encoded data removed]",
      "text/plain": [
       "<Figure size 432x288 with 1 Axes>"
      ]
     },
     "metadata": {
      "needs_background": "light"
     },
     "output_type": "display_data"
    },
    {
     "name": "stdout",
     "output_type": "stream",
     "text": [
      "It is Rotten Banana\n"
     ]
    }
   ],
   "source": [
    "import matplotlib.image as mpimg\n",
    "def select(folder,number):\n",
    "    images = []\n",
    "    y=[]\n",
    "    i=1\n",
    "    for filename in os.listdir(folder):\n",
    "        img = cv2.imread(os.path.join(folder,filename))\n",
    "        if img is not None:\n",
    "           \n",
    "            temp=filename.split(\".\")\n",
    "            if i==number:\n",
    "                y.append(int(temp[0][-1]))\n",
    "                images.append(img)\n",
    "                image = mpimg.imread(os.path.join(folder,filename))\n",
    "                plt.imshow(image)\n",
    "                plt.show()\n",
    "                return np.array(images),np.array(y)\n",
    "            \n",
    "        i=i+1\n",
    "#select photo\n",
    "X,y=select(\"/home/shanky/btp/datset/final_test\",10)\n",
    "Y=np.array(y)\n",
    "X_flatten = X.reshape(X.shape[0], -1).T\n",
    "X=X_flatten/255\n",
    "network.predict_class(X,Y)\n"
   ]
  },
  {
   "cell_type": "code",
   "execution_count": 119,
   "metadata": {},
   "outputs": [
    {
     "data": {
      "image/png": "[encoded data removed]",
      "text/plain": [
       "<Figure size 432x288 with 1 Axes>"
      ]
     },
     "metadata": {
      "needs_background": "light"
     },
     "output_type": "display_data"
    },
    {
     "name": "stdout",
     "output_type": "stream",
     "text": [
      "It is Rotten Orange\n"
     ]
    }
   ],
   "source": [
    "import matplotlib.image as mpimg\n",
    "\n",
    "def select(folder,number):\n",
    "    images = []\n",
    "    y=[]\n",
    "    i=1\n",
    "    for filename in os.listdir(folder):\n",
    "        img = cv2.imread(os.path.join(folder,filename))\n",
    "        if img is not None:\n",
    "           \n",
    "            temp=filename.split(\".\")\n",
    "            if i==number:\n",
    "                y.append(int(temp[0][-1]))\n",
    "                images.append(img)\n",
    "                image = mpimg.imread(os.path.join(folder,filename))\n",
    "                plt.imshow(image)\n",
    "                plt.show()\n",
    "                return np.array(images),np.array(y)\n",
    "            \n",
    "        i=i+1\n",
    "#select photo\n",
    "X,y=select(\"/home/shanky/btp/datset/final_test\",99)\n",
    "Y=np.array(y)\n",
    "X_flatten = X.reshape(X.shape[0], -1).T\n",
    "X=X_flatten/255\n",
    "network.predict_class(X,Y)\n",
    "\n",
    "\n",
    "\n",
    "\n",
    "\n",
    "\n"
   ]
  },
  {
   "cell_type": "code",
   "execution_count": 97,
   "metadata": {},
   "outputs": [
    {
     "data": {
      "image/png": "[encoded data removed]",
      "text/plain": [
       "<Figure size 432x288 with 1 Axes>"
      ]
     },
     "metadata": {
      "needs_background": "light"
     },
     "output_type": "display_data"
    },
    {
     "name": "stdout",
     "output_type": "stream",
     "text": [
      "It is  Rotten Apple\n"
     ]
    }
   ],
   "source": [
    "import matplotlib.image as mpimg\n",
    "\n",
    "def select(folder,number):\n",
    "    images = []\n",
    "    y=[]\n",
    "    i=1\n",
    "    for filename in os.listdir(folder):\n",
    "        img = cv2.imread(os.path.join(folder,filename))\n",
    "        if img is not None:\n",
    "           \n",
    "            temp=filename.split(\".\")\n",
    "            if i==number:\n",
    "                y.append(int(temp[0][-1]))\n",
    "                images.append(img)\n",
    "                image = mpimg.imread(os.path.join(folder,filename))\n",
    "                plt.imshow(image)\n",
    "                plt.show()\n",
    "                return np.array(images),np.array(y)\n",
    "            \n",
    "        i=i+1\n",
    "#select photo\n",
    "X,y=select(\"/home/shanky/btp/datset/final_test\",129)\n",
    "Y=np.array(y)\n",
    "X_flatten = X.reshape(X.shape[0], -1).T\n",
    "X=X_flatten/255\n",
    "network.predict_class(X,Y)"
   ]
  },
  {
   "cell_type": "code",
   "execution_count": 142,
   "metadata": {},
   "outputs": [
    {
     "data": {
      "image/png": "[encoded data removed]",
      "text/plain": [
       "<Figure size 432x288 with 1 Axes>"
      ]
     },
     "metadata": {
      "needs_background": "light"
     },
     "output_type": "display_data"
    },
    {
     "name": "stdout",
     "output_type": "stream",
     "text": [
      "It is Rotten Banana\n"
     ]
    }
   ],
   "source": [
    "import matplotlib.image as mpimg\n",
    "\n",
    "def select(folder,number):\n",
    "    images = []\n",
    "    y=[]\n",
    "    i=1\n",
    "    for filename in os.listdir(folder):\n",
    "        img = cv2.imread(os.path.join(folder,filename))\n",
    "        if img is not None:\n",
    "            temp=filename.split(\".\")\n",
    "            if i==number:\n",
    "                image = mpimg.imread(os.path.join(folder,filename))\n",
    "                plt.imshow(image)\n",
    "                plt.show()\n",
    "                y.append(int(temp[0][-1]))\n",
    "                images.append(img)\n",
    "                return np.array(images),np.array(y)\n",
    "        i=i+1\n",
    "#select photo\n",
    "X,y=select(\"/home/shanky/btp/datset/real_test\",5)\n",
    "Y=np.array(y)\n",
    "X_flatten = X.reshape(X.shape[0], -1).T\n",
    "X=X_flatten/255\n",
    "network.predict_class(X,Y)\n"
   ]
  },
  {
   "cell_type": "markdown",
   "metadata": {},
   "source": []
  },
  {
   "cell_type": "code",
   "execution_count": 109,
   "metadata": {},
   "outputs": [
    {
     "data": {
      "image/png": "[encoded data removed]",
      "text/plain": [
       "<Figure size 432x288 with 1 Axes>"
      ]
     },
     "metadata": {
      "needs_background": "light"
     },
     "output_type": "display_data"
    },
    {
     "name": "stdout",
     "output_type": "stream",
     "text": [
      "It is Apple\n"
     ]
    }
   ],
   "source": [
    "import matplotlib.image as mpimg\n",
    "def select(folder,number):\n",
    "    images = []\n",
    "    y=[]\n",
    "    i=1\n",
    "    for filename in os.listdir(folder):\n",
    "        img = cv2.imread(os.path.join(folder,filename))\n",
    "        if img is not None:\n",
    "           \n",
    "            temp=filename.split(\".\")\n",
    "            if i==number:\n",
    "                y.append(int(temp[0][-1]))\n",
    "                images.append(img)\n",
    "                image = mpimg.imread(os.path.join(folder,filename))\n",
    "                plt.imshow(image)\n",
    "                plt.show()\n",
    "                return np.array(images),np.array(y)\n",
    "            \n",
    "        i=i+1\n",
    "#select photo\n",
    "X,y=select(\"/home/shanky/btp/datset/final_test\",29)\n",
    "Y=np.array(y)\n",
    "X_flatten = X.reshape(X.shape[0], -1).T\n",
    "X=X_flatten/255\n",
    "network.predict_class(X,Y)\n"
   ]
  },
  {
   "cell_type": "code",
   "execution_count": 125,
   "metadata": {},
   "outputs": [
    {
     "data": {
      "image/png": "[encoded data removed]",
      "text/plain": [
       "<Figure size 432x288 with 1 Axes>"
      ]
     },
     "metadata": {
      "needs_background": "light"
     },
     "output_type": "display_data"
    },
    {
     "name": "stdout",
     "output_type": "stream",
     "text": [
      "It is Orange\n"
     ]
    }
   ],
   "source": [
    "import matplotlib.image as mpimg\n",
    "def select(folder,number):\n",
    "    images = []\n",
    "    y=[]\n",
    "    i=1\n",
    "    for filename in os.listdir(folder):\n",
    "        img = cv2.imread(os.path.join(folder,filename))\n",
    "        if img is not None:\n",
    "           \n",
    "            temp=filename.split(\".\")\n",
    "            if i==number:\n",
    "                y.append(int(temp[0][-1]))\n",
    "                images.append(img)\n",
    "                image = mpimg.imread(os.path.join(folder,filename))\n",
    "                plt.imshow(image)\n",
    "                plt.show()\n",
    "                return np.array(images),np.array(y)\n",
    "            \n",
    "        i=i+1\n",
    "#select photo\n",
    "X,y=select(\"/home/shanky/btp/datset/final_test\",687)\n",
    "Y=np.array(y)\n",
    "X_flatten = X.reshape(X.shape[0], -1).T\n",
    "X=X_flatten/255\n",
    "network.predict_class(X,Y)\n"
   ]
  },
  {
   "cell_type": "code",
   "execution_count": null,
   "metadata": {},
   "outputs": [],
   "source": []
  },
  {
   "cell_type": "code",
   "execution_count": null,
   "metadata": {},
   "outputs": [],
   "source": []
  },
  {
   "cell_type": "code",
   "execution_count": null,
   "metadata": {},
   "outputs": [],
   "source": []
  },
  {
   "cell_type": "code",
   "execution_count": null,
   "metadata": {},
   "outputs": [],
   "source": []
  },
  {
   "cell_type": "code",
   "execution_count": null,
   "metadata": {},
   "outputs": [],
   "source": []
  }
 ],
 "metadata": {
  "kernelspec": {
   "display_name": "Python 3",
   "language": "python",
   "name": "python3"
  },
  "language_info": {
   "codemirror_mode": {
    "name": "ipython",
    "version": 3
   },
   "file_extension": ".py",
   "mimetype": "text/x-python",
   "name": "python",
   "nbconvert_exporter": "python",
   "pygments_lexer": "ipython3",
   "version": "3.8.4"
  }
 },
 "nbformat": 4,
 "nbformat_minor": 4
}
